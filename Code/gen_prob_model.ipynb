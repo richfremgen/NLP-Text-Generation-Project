{
 "cells": [
  {
   "cell_type": "markdown",
   "id": "2879bfcd-916e-46b2-a463-ac049793ac74",
   "metadata": {},
   "source": [
    "## Reference:\n",
    "* ECE-684 Notes and TA Office Hours\n",
    "* ECE-684 HW 3 (Fremgen)\n",
    "* ECE-684 HW 3 (Antoun)\n",
    "* ECE-684 HW 3 (Singh)\n",
    "\n",
    "## Group Members: Richard Fremgen, Johnny Antoun, Jaskaran Singh"
   ]
  },
  {
   "cell_type": "markdown",
   "id": "a7eee668-876e-452f-aa60-2820962c7da7",
   "metadata": {},
   "source": [
    "## Generative Probabilistic Model\n",
    "### Language Model: Text Generation"
   ]
  },
  {
   "cell_type": "markdown",
   "id": "9fb718f2-1e8d-410b-b8dc-317e6cb395e3",
   "metadata": {},
   "source": [
    "### Load Packages"
   ]
  },
  {
   "cell_type": "code",
   "execution_count": 1,
   "id": "c4f9d749-0e53-4993-9608-454112b21241",
   "metadata": {},
   "outputs": [],
   "source": [
    "import nltk\n",
    "import re\n",
    "import pickle\n",
    "import numpy as np\n",
    "import random\n",
    "from nltk.tokenize import word_tokenize"
   ]
  },
  {
   "cell_type": "markdown",
   "id": "20795d5a-09a4-4770-ae15-f31bdf6a6d40",
   "metadata": {},
   "source": [
    "### Define Text Generation Function"
   ]
  },
  {
   "cell_type": "code",
   "execution_count": 2,
   "id": "37f369ab-ede9-4a70-8f9e-98d3a7583919",
   "metadata": {},
   "outputs": [],
   "source": [
    "def finish_sentence(sentence, n, corpus, deterministic=True): \n",
    "    \n",
    "    \"\"\" Bare-Bones Markov text generator to return a sentence based on whether\n",
    "        a determinist or stochastic mode is selected \"\"\"\n",
    "    \n",
    "    best_match = sentence.copy()\n",
    "    corp_length = len(corpus)\n",
    "    initial_n = n\n",
    "    \n",
    "    while len(best_match) < 10:\n",
    "        \n",
    "        #print(n) \n",
    "        \n",
    "        # Beak up corpus into n-1 word chunks\n",
    "        start = range(0, corp_length)\n",
    "        end = range(n-1, corp_length+1)  \n",
    "        joined_word = []\n",
    "                \n",
    "        # Unigram and Deterministic Case\n",
    "        if n == 1 and deterministic == True:\n",
    "            \n",
    "            w, w_index, w_count  = np.unique(corpus, return_counts=True, \n",
    "                                              return_index = True) \n",
    "            p = np.where(w_count == np.max(w_count))\n",
    "            new_word = corpus[min(w_index[p])]\n",
    "            best_match.append(new_word) \n",
    "            \n",
    "            continue\n",
    "        \n",
    "        # Unigram and Stochastic Case\n",
    "        if n == 1 and deterministic == False:\n",
    "            \n",
    "            w, w_index, w_count  = np.unique(corpus, return_counts=True, \n",
    "                                              return_index = True) \n",
    "            \n",
    "            w_prob = w_count / np.sum(w_count)\n",
    "            new_word = np.random.choice(w, size =1, p = w_prob)[0]\n",
    "            best_match.append(new_word) \n",
    "            \n",
    "            if new_word in [\".\", \"?\", \"!\"]:\n",
    "                break   \n",
    "            \n",
    "            continue\n",
    "            \n",
    "        \n",
    "        for i, j in zip(start, end): \n",
    "            joined_word.append(' '.join(corpus[i:j])) \n",
    "        \n",
    "        # Save words that appear after the words in phrase        \n",
    "        save_results = [joined_word[i+1].split()[n-2] for i, x \n",
    "                        in enumerate(joined_word) if x == ' '.join(best_match[-(n-1):])] \n",
    "        \n",
    "        # Create lists of unique words in save_results along with index and counts\n",
    "        w, w_index, w_count  = np.unique(save_results, return_counts=True, \n",
    "                                         return_index = True)  \n",
    "        \n",
    "        # When the word/phrase does not exist in corpus - use backoff method\n",
    "        if len(w) == 0:\n",
    "            n -= 1\n",
    "            continue\n",
    "        \n",
    "        if deterministic == True:\n",
    "    \n",
    "            p = np.where(w_count == np.max(w_count))\n",
    "            new_word = save_results[min(w_index[p])]\n",
    "            \n",
    "        else:\n",
    "            \n",
    "            w_prob = w_count / np.sum(w_count)\n",
    "            new_word = np.random.choice(w, size =1, p = w_prob)[0]\n",
    "            \n",
    "        best_match.append(new_word) \n",
    "        \n",
    "        n = initial_n\n",
    "\n",
    "        if new_word in [\".\", \"?\", \"!\"]:\n",
    "            break   \n",
    "\n",
    "    return(best_match)"
   ]
  },
  {
   "cell_type": "markdown",
   "id": "0376fcf3-fd99-4dc2-a784-5956d06e436a",
   "metadata": {},
   "source": [
    "### Load Training Data and Pre-process"
   ]
  },
  {
   "cell_type": "code",
   "execution_count": 4,
   "id": "3c7e3be8-4c18-4e9e-94c9-33f2488c6a0e",
   "metadata": {},
   "outputs": [],
   "source": [
    "# read pickle file\n",
    "pickle_in = open(\"plots_text.pickle\",\"rb\")\n",
    "movie_plots = pickle.load(pickle_in)\n",
    "\n",
    "# clean text\n",
    "movie_plots = [re.sub(\"[^a-z' ]\", \"\", i) for i in movie_plots]\n",
    "\n",
    "# Tokenize words\n",
    "new_corpus = []\n",
    "\n",
    "for movie in movie_plots:\n",
    "    a = movie.split()\n",
    "    a = word_tokenize(movie)\n",
    "    new_corpus.append(a)\n",
    "\n",
    "corpus = [item for sublist in new_corpus for item in sublist]"
   ]
  },
  {
   "cell_type": "markdown",
   "id": "aed24f4b-7cd5-4063-9a04-6e3db9f7cdf4",
   "metadata": {},
   "source": [
    "### Train on Real Data - Deterministic"
   ]
  },
  {
   "cell_type": "code",
   "execution_count": 18,
   "id": "b03d7912-d5f1-43ae-af2a-d10dc892f81c",
   "metadata": {},
   "outputs": [
    {
     "name": "stdout",
     "output_type": "stream",
     "text": [
      "the girl who is a new york city and the\n"
     ]
    }
   ],
   "source": [
    "sentence = ['the', 'girl']\n",
    "n = 2\n",
    "deterministic=True\n",
    "test = finish_sentence(sentence, n, corpus, deterministic) \n",
    "print(\" \".join(test)) "
   ]
  },
  {
   "cell_type": "code",
   "execution_count": 19,
   "id": "11e9c4b9-685b-47b2-bc9c-73951f7cfd47",
   "metadata": {},
   "outputs": [
    {
     "name": "stdout",
     "output_type": "stream",
     "text": [
      "the girl who is a good thing but the other\n"
     ]
    }
   ],
   "source": [
    "sentence = ['the', 'girl']\n",
    "n = 3\n",
    "deterministic=True\n",
    "test = finish_sentence(sentence, n, corpus, deterministic) \n",
    "print(\" \".join(test))  "
   ]
  },
  {
   "cell_type": "code",
   "execution_count": 20,
   "id": "8856e111-80c3-4bc2-886a-886c04710c1d",
   "metadata": {},
   "outputs": [
    {
     "name": "stdout",
     "output_type": "stream",
     "text": [
      "the girl who 'd appeared and disappeared so mysteriously during\n"
     ]
    }
   ],
   "source": [
    "sentence = ['the', 'girl']\n",
    "n = 4\n",
    "deterministic=True\n",
    "test = finish_sentence(sentence, n, corpus, deterministic) \n",
    "print(\" \".join(test))  "
   ]
  },
  {
   "cell_type": "code",
   "execution_count": 21,
   "id": "71a14e70-cdc2-4024-85e6-67e97bd21cd6",
   "metadata": {},
   "outputs": [
    {
     "name": "stdout",
     "output_type": "stream",
     "text": [
      "the girl who 'd appeared and disappeared so mysteriously during\n"
     ]
    }
   ],
   "source": [
    "sentence = ['the', 'girl']\n",
    "n = 5\n",
    "deterministic=True\n",
    "test = finish_sentence(sentence, n, corpus, deterministic) \n",
    "print(\" \".join(test))  "
   ]
  },
  {
   "cell_type": "code",
   "execution_count": 34,
   "id": "438427a0-12d9-44c7-82b0-987ea998d611",
   "metadata": {},
   "outputs": [
    {
     "name": "stdout",
     "output_type": "stream",
     "text": [
      "the man told that he is a new york city\n"
     ]
    }
   ],
   "source": [
    "sentence = ['the', 'man', 'told']\n",
    "n = 2\n",
    "deterministic=True\n",
    "test = finish_sentence(sentence, n, corpus, deterministic) \n",
    "print(\" \".join(test))  "
   ]
  },
  {
   "cell_type": "code",
   "execution_count": 35,
   "id": "037a7d1c-25a3-445a-9de6-7e2426708207",
   "metadata": {},
   "outputs": [
    {
     "name": "stdout",
     "output_type": "stream",
     "text": [
      "the man told that the man who has been in\n"
     ]
    }
   ],
   "source": [
    "sentence = ['the', 'man', 'told']\n",
    "n = 3\n",
    "deterministic=True\n",
    "test = finish_sentence(sentence, n, corpus, deterministic) \n",
    "print(\" \".join(test))  "
   ]
  },
  {
   "cell_type": "code",
   "execution_count": 36,
   "id": "36742b66-49a3-44bd-803c-0885c1a53392",
   "metadata": {},
   "outputs": [
    {
     "name": "stdout",
     "output_type": "stream",
     "text": [
      "the man told that the jewellery was given to gordon\n"
     ]
    }
   ],
   "source": [
    "sentence = ['the', 'man', 'told']\n",
    "n = 4\n",
    "deterministic=True\n",
    "test = finish_sentence(sentence, n, corpus, deterministic) \n",
    "print(\" \".join(test))  "
   ]
  },
  {
   "cell_type": "code",
   "execution_count": 37,
   "id": "e17d2748-8ec6-43c7-9613-7eb8b9477ba6",
   "metadata": {},
   "outputs": [
    {
     "name": "stdout",
     "output_type": "stream",
     "text": [
      "the man told that the jewellery was given to him\n"
     ]
    }
   ],
   "source": [
    "sentence = ['the', 'man', 'told']\n",
    "n = 5\n",
    "deterministic=True\n",
    "test = finish_sentence(sentence, n, corpus, deterministic) \n",
    "print(\" \".join(test))  "
   ]
  },
  {
   "cell_type": "code",
   "execution_count": 43,
   "id": "077a47fb-e84d-45c6-bbe1-ba22448d32f2",
   "metadata": {},
   "outputs": [
    {
     "name": "stdout",
     "output_type": "stream",
     "text": [
      "as soon the film ends with the film ends with\n"
     ]
    }
   ],
   "source": [
    "sentence = ['as', 'soon', 'the']\n",
    "n = 2\n",
    "deterministic=True\n",
    "test = finish_sentence(sentence, n, corpus, deterministic) \n",
    "print(\" \".join(test))  "
   ]
  },
  {
   "cell_type": "code",
   "execution_count": 44,
   "id": "521a4594-ec91-44e7-b7d9-e10f9cc2bc25",
   "metadata": {},
   "outputs": [
    {
     "name": "stdout",
     "output_type": "stream",
     "text": [
      "as soon the whole thing but the other hand is\n"
     ]
    }
   ],
   "source": [
    "sentence = ['as', 'soon', 'the']\n",
    "n = 3\n",
    "deterministic=True\n",
    "test = finish_sentence(sentence, n, corpus, deterministic) \n",
    "print(\" \".join(test))  "
   ]
  },
  {
   "cell_type": "code",
   "execution_count": 45,
   "id": "33a8ef48-d0ab-4f2a-9b9e-ba0b555ecde0",
   "metadata": {},
   "outputs": [
    {
     "name": "stdout",
     "output_type": "stream",
     "text": [
      "as soon the whole family is being neglected by the\n"
     ]
    }
   ],
   "source": [
    "sentence = ['as', 'soon', 'the']\n",
    "n = 4\n",
    "deterministic=True\n",
    "test = finish_sentence(sentence, n, corpus, deterministic) \n",
    "print(\" \".join(test))  "
   ]
  },
  {
   "cell_type": "code",
   "execution_count": 46,
   "id": "018f549d-005b-4f26-ae96-61c7c5ce8176",
   "metadata": {},
   "outputs": [
    {
     "name": "stdout",
     "output_type": "stream",
     "text": [
      "as soon the whole family is being neglected by the\n"
     ]
    }
   ],
   "source": [
    "sentence = ['as', 'soon', 'the']\n",
    "n = 5\n",
    "deterministic=True\n",
    "test = finish_sentence(sentence, n, corpus, deterministic) \n",
    "print(\" \".join(test))  "
   ]
  },
  {
   "cell_type": "code",
   "execution_count": 51,
   "id": "4bb030f0-7f5e-4932-a74d-6b9168a856a0",
   "metadata": {},
   "outputs": [
    {
     "name": "stdout",
     "output_type": "stream",
     "text": [
      "i have been a new york city and the film\n"
     ]
    }
   ],
   "source": [
    "sentence = ['i', 'have']\n",
    "n = 2\n",
    "deterministic=True\n",
    "test = finish_sentence(sentence, n, corpus, deterministic) \n",
    "print(\" \".join(test)) "
   ]
  },
  {
   "cell_type": "code",
   "execution_count": 52,
   "id": "59be16c2-c5b7-428a-a738-c8c3de7151b3",
   "metadata": {},
   "outputs": [
    {
     "name": "stdout",
     "output_type": "stream",
     "text": [
      "i have been a martial arts competition the international kindergarten\n"
     ]
    }
   ],
   "source": [
    "sentence = ['i', 'have']\n",
    "n = 3\n",
    "deterministic=True\n",
    "test = finish_sentence(sentence, n, corpus, deterministic) \n",
    "print(\" \".join(test)) "
   ]
  },
  {
   "cell_type": "code",
   "execution_count": 53,
   "id": "3239556c-7edb-419d-a493-ad60fe266598",
   "metadata": {},
   "outputs": [
    {
     "name": "stdout",
     "output_type": "stream",
     "text": [
      "i have been waiting ten years for manslaughter eva tells\n"
     ]
    }
   ],
   "source": [
    "sentence = ['i', 'have']\n",
    "n = 4\n",
    "deterministic=True\n",
    "test = finish_sentence(sentence, n, corpus, deterministic) \n",
    "print(\" \".join(test)) "
   ]
  },
  {
   "cell_type": "code",
   "execution_count": 54,
   "id": "c9e06ec5-2fe7-4f7e-940a-b253e68f5e3c",
   "metadata": {},
   "outputs": [
    {
     "name": "stdout",
     "output_type": "stream",
     "text": [
      "i have been waiting ten years for this he says\n"
     ]
    }
   ],
   "source": [
    "sentence = ['i', 'have']\n",
    "n = 5\n",
    "deterministic=True\n",
    "test = finish_sentence(sentence, n, corpus, deterministic) \n",
    "print(\" \".join(test)) "
   ]
  },
  {
   "cell_type": "code",
   "execution_count": 63,
   "id": "ca7f33d9-1a42-44b0-9d48-198559380721",
   "metadata": {},
   "outputs": [
    {
     "name": "stdout",
     "output_type": "stream",
     "text": [
      "a car and the film ends with the film ends\n"
     ]
    }
   ],
   "source": [
    "sentence = ['a', 'car']\n",
    "n = 2\n",
    "deterministic=True\n",
    "test = finish_sentence(sentence, n, corpus, deterministic) \n",
    "print(\" \".join(test))"
   ]
  },
  {
   "cell_type": "code",
   "execution_count": 64,
   "id": "c4784810-4a99-487d-b418-393313ee9bce",
   "metadata": {},
   "outputs": [
    {
     "name": "stdout",
     "output_type": "stream",
     "text": [
      "a car accident with no apparent disapproval from the city\n"
     ]
    }
   ],
   "source": [
    "sentence = ['a', 'car']\n",
    "n = 3\n",
    "deterministic=True\n",
    "test = finish_sentence(sentence, n, corpus, deterministic) \n",
    "print(\" \".join(test))"
   ]
  },
  {
   "cell_type": "code",
   "execution_count": 65,
   "id": "0c4950e6-de52-4481-87ff-67fb434eee86",
   "metadata": {},
   "outputs": [
    {
     "name": "stdout",
     "output_type": "stream",
     "text": [
      "a car accident with no child to tie them together\n"
     ]
    }
   ],
   "source": [
    "sentence = ['a', 'car']\n",
    "n = 4\n",
    "deterministic=True\n",
    "test = finish_sentence(sentence, n, corpus, deterministic) \n",
    "print(\" \".join(test))"
   ]
  },
  {
   "cell_type": "code",
   "execution_count": 66,
   "id": "01164ce0-8951-4323-a6d4-8cf53f5fd884",
   "metadata": {},
   "outputs": [
    {
     "name": "stdout",
     "output_type": "stream",
     "text": [
      "a car accident with no child to tie them together\n"
     ]
    }
   ],
   "source": [
    "sentence = ['a', 'car']\n",
    "n = 5\n",
    "deterministic=True\n",
    "test = finish_sentence(sentence, n, corpus, deterministic) \n",
    "print(\" \".join(test))"
   ]
  },
  {
   "cell_type": "markdown",
   "id": "bee6f8e1-5e27-4182-ba79-1cfae0ec8502",
   "metadata": {},
   "source": [
    "### Train on Real Data - Non-Deterministic"
   ]
  },
  {
   "cell_type": "code",
   "execution_count": 22,
   "id": "665020ad-a0ac-4903-9f8b-f1640c047b55",
   "metadata": {},
   "outputs": [
    {
     "name": "stdout",
     "output_type": "stream",
     "text": [
      "the girl should stay in a surprise birthday before he\n"
     ]
    }
   ],
   "source": [
    "sentence = ['the', 'girl']\n",
    "n = 2\n",
    "deterministic=False\n",
    "test = finish_sentence(sentence, n, corpus, deterministic) \n",
    "print(\" \".join(test)) "
   ]
  },
  {
   "cell_type": "code",
   "execution_count": 23,
   "id": "302007d5-24ab-4d12-91e0-ddb3ce889abd",
   "metadata": {},
   "outputs": [
    {
     "name": "stdout",
     "output_type": "stream",
     "text": [
      "the girl finally accepts and starts insulting ray by talking\n"
     ]
    }
   ],
   "source": [
    "sentence = ['the', 'girl']\n",
    "n = 3\n",
    "deterministic=False\n",
    "test = finish_sentence(sentence, n, corpus, deterministic) \n",
    "print(\" \".join(test)) "
   ]
  },
  {
   "cell_type": "code",
   "execution_count": 24,
   "id": "725df744-6e43-4507-a89d-f9851eac6020",
   "metadata": {},
   "outputs": [
    {
     "name": "stdout",
     "output_type": "stream",
     "text": [
      "the girl 's trust he trades her a shiny silver\n"
     ]
    }
   ],
   "source": [
    "sentence = ['the', 'girl']\n",
    "n = 4\n",
    "deterministic=False\n",
    "test = finish_sentence(sentence, n, corpus, deterministic) \n",
    "print(\" \".join(test))  "
   ]
  },
  {
   "cell_type": "code",
   "execution_count": 25,
   "id": "17d81405-3448-4261-bb5b-c6bb817d1024",
   "metadata": {},
   "outputs": [
    {
     "name": "stdout",
     "output_type": "stream",
     "text": [
      "the girl who saved his life eric rushes to kiss\n"
     ]
    }
   ],
   "source": [
    "sentence = ['the', 'girl']\n",
    "n = 5\n",
    "deterministic=False\n",
    "test = finish_sentence(sentence, n, corpus, deterministic) \n",
    "print(\" \".join(test))  "
   ]
  },
  {
   "cell_type": "code",
   "execution_count": 33,
   "id": "51a364eb-33ab-475b-bf1d-1d40cdf43e18",
   "metadata": {},
   "outputs": [
    {
     "name": "stdout",
     "output_type": "stream",
     "text": [
      "the man told that jeff poindexter a medical clearance to\n"
     ]
    }
   ],
   "source": [
    "sentence = ['the', 'man', 'told']\n",
    "n = 2\n",
    "deterministic=False\n",
    "test = finish_sentence(sentence, n, corpus, deterministic) \n",
    "print(\" \".join(test)) "
   ]
  },
  {
   "cell_type": "code",
   "execution_count": 27,
   "id": "4be79be6-e524-4424-8ff4-efd34bd3bc30",
   "metadata": {},
   "outputs": [
    {
     "name": "stdout",
     "output_type": "stream",
     "text": [
      "the man told the chairman concludes the hearing and praetorius\n"
     ]
    }
   ],
   "source": [
    "sentence = ['the', 'man', 'told']\n",
    "n = 3\n",
    "deterministic=False\n",
    "test = finish_sentence(sentence, n, corpus, deterministic) \n",
    "print(\" \".join(test)) "
   ]
  },
  {
   "cell_type": "code",
   "execution_count": 28,
   "id": "360b9769-dc70-467c-ab07-d2ff86cae0f4",
   "metadata": {},
   "outputs": [
    {
     "name": "stdout",
     "output_type": "stream",
     "text": [
      "the man told that since gauri has been convicted of\n"
     ]
    }
   ],
   "source": [
    "sentence = ['the', 'man', 'told']\n",
    "n = 4\n",
    "deterministic=False\n",
    "test = finish_sentence(sentence, n, corpus, deterministic) \n",
    "print(\" \".join(test)) "
   ]
  },
  {
   "cell_type": "code",
   "execution_count": 30,
   "id": "89989346-7c49-419f-95c8-8efaedf8aae2",
   "metadata": {},
   "outputs": [
    {
     "name": "stdout",
     "output_type": "stream",
     "text": [
      "the man told to begin with words on why he\n"
     ]
    }
   ],
   "source": [
    "sentence = ['the', 'man', 'told']\n",
    "n = 5\n",
    "deterministic=False\n",
    "test = finish_sentence(sentence, n, corpus, deterministic) \n",
    "print(\" \".join(test)) "
   ]
  },
  {
   "cell_type": "code",
   "execution_count": 38,
   "id": "4581bbe3-b1f1-4bb6-bb76-acb746ca9e15",
   "metadata": {},
   "outputs": [
    {
     "name": "stdout",
     "output_type": "stream",
     "text": [
      "as soon the movie has managed to armsized creatures in\n"
     ]
    }
   ],
   "source": [
    "sentence = ['as', 'soon', 'the']\n",
    "n = 2\n",
    "deterministic=False\n",
    "test = finish_sentence(sentence, n, corpus, deterministic) \n",
    "print(\" \".join(test)) "
   ]
  },
  {
   "cell_type": "code",
   "execution_count": 39,
   "id": "1eceddf9-e22c-43b4-b4ba-2cdcd6066e1d",
   "metadata": {},
   "outputs": [
    {
     "name": "stdout",
     "output_type": "stream",
     "text": [
      "as soon the whole thing screams in anguish without thinking\n"
     ]
    }
   ],
   "source": [
    "sentence = ['as', 'soon', 'the']\n",
    "n = 3\n",
    "deterministic=False\n",
    "test = finish_sentence(sentence, n, corpus, deterministic) \n",
    "print(\" \".join(test)) "
   ]
  },
  {
   "cell_type": "code",
   "execution_count": 40,
   "id": "1785f4f9-4e6c-416a-88a9-5c5005cbf221",
   "metadata": {},
   "outputs": [
    {
     "name": "stdout",
     "output_type": "stream",
     "text": [
      "as soon the whole family is now on french soil\n"
     ]
    }
   ],
   "source": [
    "sentence = ['as', 'soon', 'the']\n",
    "n = 4\n",
    "deterministic=False\n",
    "test = finish_sentence(sentence, n, corpus, deterministic) \n",
    "print(\" \".join(test)) "
   ]
  },
  {
   "cell_type": "code",
   "execution_count": 42,
   "id": "196aa5d6-090d-4e81-9614-7de571191f2a",
   "metadata": {},
   "outputs": [
    {
     "name": "stdout",
     "output_type": "stream",
     "text": [
      "as soon the whole family is being neglected by the\n"
     ]
    }
   ],
   "source": [
    "sentence = ['as', 'soon', 'the']\n",
    "n = 5\n",
    "deterministic=False\n",
    "test = finish_sentence(sentence, n, corpus, deterministic) \n",
    "print(\" \".join(test)) "
   ]
  },
  {
   "cell_type": "code",
   "execution_count": 47,
   "id": "3c909967-ca53-4cd9-8c13-6ae7255a5304",
   "metadata": {},
   "outputs": [
    {
     "name": "stdout",
     "output_type": "stream",
     "text": [
      "i have transferred them dad ali lectures frida he even\n"
     ]
    }
   ],
   "source": [
    "sentence = ['i', 'have']\n",
    "n = 2\n",
    "deterministic=False\n",
    "test = finish_sentence(sentence, n, corpus, deterministic) \n",
    "print(\" \".join(test)) "
   ]
  },
  {
   "cell_type": "code",
   "execution_count": 48,
   "id": "33da3df4-d41e-4ab7-91b1-be0b5881fa75",
   "metadata": {},
   "outputs": [
    {
     "name": "stdout",
     "output_type": "stream",
     "text": [
      "i have been located by the th century castle originally\n"
     ]
    }
   ],
   "source": [
    "sentence = ['i', 'have']\n",
    "n = 3\n",
    "deterministic=False\n",
    "test = finish_sentence(sentence, n, corpus, deterministic) \n",
    "print(\" \".join(test)) "
   ]
  },
  {
   "cell_type": "code",
   "execution_count": 49,
   "id": "a070d667-87de-44d5-9c0f-a038c76ac93b",
   "metadata": {},
   "outputs": [
    {
     "name": "stdout",
     "output_type": "stream",
     "text": [
      "i have been waiting ten years for manslaughter eva tells\n"
     ]
    }
   ],
   "source": [
    "sentence = ['i', 'have']\n",
    "n = 4\n",
    "deterministic=False\n",
    "test = finish_sentence(sentence, n, corpus, deterministic) \n",
    "print(\" \".join(test)) "
   ]
  },
  {
   "cell_type": "code",
   "execution_count": 50,
   "id": "e7cc38a9-ced5-490d-bc49-d48f61f12b50",
   "metadata": {},
   "outputs": [
    {
     "name": "stdout",
     "output_type": "stream",
     "text": [
      "i have been waiting ten years for this he says\n"
     ]
    }
   ],
   "source": [
    "sentence = ['i', 'have']\n",
    "n = 5\n",
    "deterministic=False\n",
    "test = finish_sentence(sentence, n, corpus, deterministic) \n",
    "print(\" \".join(test)) "
   ]
  },
  {
   "cell_type": "code",
   "execution_count": 62,
   "id": "a0f199fd-2379-4b64-901f-6a3c1acc22da",
   "metadata": {},
   "outputs": [
    {
     "name": "stdout",
     "output_type": "stream",
     "text": [
      "a car into the mountains while training in his suspicions\n"
     ]
    }
   ],
   "source": [
    "sentence = ['a', 'car']\n",
    "n = 2\n",
    "deterministic = False\n",
    "test = finish_sentence(sentence, n, corpus, deterministic) \n",
    "print(\" \".join(test)) "
   ]
  },
  {
   "cell_type": "code",
   "execution_count": 58,
   "id": "ed294886-873d-46fc-8d64-afa40404c887",
   "metadata": {},
   "outputs": [
    {
     "name": "stdout",
     "output_type": "stream",
     "text": [
      "a car chase that follows the fight back and forth\n"
     ]
    }
   ],
   "source": [
    "sentence = ['a', 'car']\n",
    "n = 3\n",
    "deterministic = False\n",
    "test = finish_sentence(sentence, n, corpus, deterministic) \n",
    "print(\" \".join(test)) "
   ]
  },
  {
   "cell_type": "code",
   "execution_count": 59,
   "id": "90a28cd0-83ba-4922-bd86-2525b4a10bcd",
   "metadata": {},
   "outputs": [
    {
     "name": "stdout",
     "output_type": "stream",
     "text": [
      "a car accident ambujakshi realizes to her horror that the\n"
     ]
    }
   ],
   "source": [
    "sentence = ['a', 'car']\n",
    "n = 4\n",
    "deterministic = False\n",
    "test = finish_sentence(sentence, n, corpus, deterministic) \n",
    "print(\" \".join(test)) "
   ]
  },
  {
   "cell_type": "code",
   "execution_count": 60,
   "id": "e81ffc50-3781-4662-b3c1-d75ba915988f",
   "metadata": {},
   "outputs": [
    {
     "name": "stdout",
     "output_type": "stream",
     "text": [
      "a car containing a shipment of gold bullion robert 's\n"
     ]
    }
   ],
   "source": [
    "sentence = ['a', 'car']\n",
    "n = 5\n",
    "deterministic = False\n",
    "test = finish_sentence(sentence, n, corpus, deterministic) \n",
    "print(\" \".join(test)) "
   ]
  },
  {
   "cell_type": "markdown",
   "id": "a5312ba9-4e4d-47c5-a157-b57472f03387",
   "metadata": {},
   "source": [
    "### Generate Synthetic Data"
   ]
  },
  {
   "cell_type": "code",
   "execution_count": 4,
   "id": "54b57bfa-74a9-43d3-bf39-4841e3589094",
   "metadata": {},
   "outputs": [],
   "source": [
    "# Deterministic Synthetic Data\n",
    "save_corpus = []\n",
    "\n",
    "random.seed(123)\n",
    "\n",
    "for i in range(500):\n",
    "    start = random.randint(3, len(corpus)-3)\n",
    "    end = start+3\n",
    "    save_corpus.append(corpus[start:end])\n",
    "\n",
    "save_data = [] \n",
    "\n",
    "for sent in save_corpus:\n",
    "    new_sent = finish_sentence(sentence=sent, n=4, corpus=corpus, deterministic=True)\n",
    "    save_data.append(new_sent)\n",
    "\n",
    "syn_det_data = [' '.join(val) for val in save_data]\n",
    "\n",
    "# with open('det_syn_data.pkl', 'wb') as f:\n",
    "#     pickle.dump(syn_det_data, f) \n"
   ]
  },
  {
   "cell_type": "code",
   "execution_count": 5,
   "id": "18e9139f-ad99-4716-9d6a-fa687821fcd8",
   "metadata": {},
   "outputs": [],
   "source": [
    "# Non-Deterministic Synthetic Data\n",
    "\n",
    "save_data2 = [] \n",
    "\n",
    "for sent in save_corpus:\n",
    "    new_sent2 = finish_sentence(sentence=sent, n=4, corpus=corpus, deterministic=False)\n",
    "    save_data2.append(new_sent2)\n",
    "\n",
    "syn_det_data2 = [' '.join(val) for val in save_data2]\n",
    "\n",
    "# with open('non_det_syn_data.pkl', 'wb') as f:\n",
    "#     pickle.dump(syn_det_data2, f) "
   ]
  },
  {
   "cell_type": "markdown",
   "id": "a6714b62-a5db-45f2-a075-3c294eb14969",
   "metadata": {},
   "source": [
    "### Train on Synthetic Data - Deterministic"
   ]
  },
  {
   "cell_type": "code",
   "execution_count": 67,
   "id": "852184db-84f5-4095-b9ce-8ac2475d21f1",
   "metadata": {},
   "outputs": [],
   "source": [
    "# Load Synthetic Data\n",
    "import pickle\n",
    "pickle_in = open(\"det_syn_data.pkl\",\"rb\")\n",
    "syn_det_data = pickle.load(pickle_in)\n",
    "\n",
    "# Tokenize words\n",
    "new_corpus2 = []\n",
    "\n",
    "for d in syn_det_data:\n",
    "    a = d.split()\n",
    "    a = word_tokenize(d)\n",
    "    new_corpus2.append(a)\n",
    "\n",
    "syn_det_corpus = [item for sublist in new_corpus2 for item in sublist]"
   ]
  },
  {
   "cell_type": "code",
   "execution_count": 68,
   "id": "ded2ebcc-78e4-4525-a161-e4bf18746b24",
   "metadata": {},
   "outputs": [
    {
     "name": "stdout",
     "output_type": "stream",
     "text": [
      "the girl attending a new 'master ' who is a\n"
     ]
    }
   ],
   "source": [
    "sentence = ['the', 'girl']\n",
    "n = 2\n",
    "deterministic=True\n",
    "test = finish_sentence(sentence, n, syn_det_corpus, deterministic) \n",
    "print(\" \".join(test))  "
   ]
  },
  {
   "cell_type": "code",
   "execution_count": 69,
   "id": "7dcc674f-3d5c-4bbd-bada-9c1a6113690d",
   "metadata": {},
   "outputs": [
    {
     "name": "stdout",
     "output_type": "stream",
     "text": [
      "the girl attending a college a long way from home\n"
     ]
    }
   ],
   "source": [
    "sentence = ['the', 'girl']\n",
    "n = 3\n",
    "deterministic=True\n",
    "test = finish_sentence(sentence, n, syn_det_corpus, deterministic) \n",
    "print(\" \".join(test)) "
   ]
  },
  {
   "cell_type": "code",
   "execution_count": 70,
   "id": "000a4108-c0a2-478a-a226-7515c4afb9e0",
   "metadata": {},
   "outputs": [
    {
     "name": "stdout",
     "output_type": "stream",
     "text": [
      "the girl attending a college a long way from home\n"
     ]
    }
   ],
   "source": [
    "sentence = ['the', 'girl']\n",
    "n = 5\n",
    "deterministic=True\n",
    "test = finish_sentence(sentence, n, syn_det_corpus, deterministic) \n",
    "print(\" \".join(test)) "
   ]
  },
  {
   "cell_type": "code",
   "execution_count": 79,
   "id": "521f7067-608e-4817-8209-70befb38acb5",
   "metadata": {},
   "outputs": [
    {
     "name": "stdout",
     "output_type": "stream",
     "text": [
      "the man told to the three children for the three\n"
     ]
    }
   ],
   "source": [
    "sentence = ['the', 'man', 'told']\n",
    "n = 2\n",
    "deterministic=True\n",
    "test = finish_sentence(sentence, n, syn_det_corpus, deterministic) \n",
    "print(\" \".join(test)) "
   ]
  },
  {
   "cell_type": "code",
   "execution_count": 80,
   "id": "7aad2b0b-8085-4365-943f-f078cc5aeb8e",
   "metadata": {},
   "outputs": [
    {
     "name": "stdout",
     "output_type": "stream",
     "text": [
      "the man told to wait back holds his games refuse\n"
     ]
    }
   ],
   "source": [
    "sentence = ['the', 'man', 'told']\n",
    "n = 3\n",
    "deterministic=True\n",
    "test = finish_sentence(sentence, n, syn_det_corpus, deterministic) \n",
    "print(\" \".join(test)) "
   ]
  },
  {
   "cell_type": "code",
   "execution_count": 81,
   "id": "42346b5d-fb8e-49ee-b400-02c59d237bf0",
   "metadata": {},
   "outputs": [
    {
     "name": "stdout",
     "output_type": "stream",
     "text": [
      "the man told to wait back holds his games refuse\n"
     ]
    }
   ],
   "source": [
    "sentence = ['the', 'man', 'told']\n",
    "n = 5\n",
    "deterministic=True\n",
    "test = finish_sentence(sentence, n, syn_det_corpus, deterministic) \n",
    "print(\" \".join(test)) "
   ]
  },
  {
   "cell_type": "code",
   "execution_count": 85,
   "id": "db71cd0b-ca8c-40b3-b0ac-e5f8033f96a5",
   "metadata": {},
   "outputs": [
    {
     "name": "stdout",
     "output_type": "stream",
     "text": [
      "as soon the three children for the three children for\n"
     ]
    }
   ],
   "source": [
    "sentence = ['as', 'soon', 'the']\n",
    "n = 2\n",
    "deterministic=True\n",
    "test = finish_sentence(sentence, n, syn_det_corpus, deterministic) \n",
    "print(\" \".join(test)) "
   ]
  },
  {
   "cell_type": "code",
   "execution_count": 86,
   "id": "0311918d-d700-48f3-a4bd-ea788f1e1419",
   "metadata": {},
   "outputs": [
    {
     "name": "stdout",
     "output_type": "stream",
     "text": [
      "as soon the three men conducted a guerrilla war against\n"
     ]
    }
   ],
   "source": [
    "sentence = ['as', 'soon', 'the']\n",
    "n = 3\n",
    "deterministic=True\n",
    "test = finish_sentence(sentence, n, syn_det_corpus, deterministic) \n",
    "print(\" \".join(test)) "
   ]
  },
  {
   "cell_type": "code",
   "execution_count": 87,
   "id": "08da5400-ecee-49d2-8926-960d23848663",
   "metadata": {},
   "outputs": [
    {
     "name": "stdout",
     "output_type": "stream",
     "text": [
      "as soon the three men conducted a guerrilla war against\n"
     ]
    }
   ],
   "source": [
    "sentence = ['as', 'soon', 'the']\n",
    "n = 5\n",
    "deterministic=True\n",
    "test = finish_sentence(sentence, n, syn_det_corpus, deterministic) \n",
    "print(\" \".join(test)) "
   ]
  },
  {
   "cell_type": "code",
   "execution_count": 91,
   "id": "44afd6a9-47f2-45fb-9c9a-9468c7078162",
   "metadata": {},
   "outputs": [
    {
     "name": "stdout",
     "output_type": "stream",
     "text": [
      "i have to the three children for the three children\n"
     ]
    }
   ],
   "source": [
    "sentence = ['i', 'have']\n",
    "n = 2\n",
    "deterministic=True\n",
    "test = finish_sentence(sentence, n, syn_det_corpus, deterministic) \n",
    "print(\" \".join(test)) "
   ]
  },
  {
   "cell_type": "code",
   "execution_count": 92,
   "id": "59d44279-1f45-4adb-91bc-3195d3c79d0a",
   "metadata": {},
   "outputs": [
    {
     "name": "stdout",
     "output_type": "stream",
     "text": [
      "i have to murdered girls are buried in anand 's\n"
     ]
    }
   ],
   "source": [
    "sentence = ['i', 'have']\n",
    "n = 3\n",
    "deterministic=True\n",
    "test = finish_sentence(sentence, n, syn_det_corpus, deterministic) \n",
    "print(\" \".join(test)) "
   ]
  },
  {
   "cell_type": "code",
   "execution_count": 93,
   "id": "319303f8-5ea5-45b9-9d16-8c692685d058",
   "metadata": {},
   "outputs": [
    {
     "name": "stdout",
     "output_type": "stream",
     "text": [
      "i have to murdered girls are buried in anand 's\n"
     ]
    }
   ],
   "source": [
    "sentence = ['i', 'have']\n",
    "n = 5\n",
    "deterministic=True\n",
    "test = finish_sentence(sentence, n, syn_det_corpus, deterministic) \n",
    "print(\" \".join(test)) "
   ]
  },
  {
   "cell_type": "code",
   "execution_count": 97,
   "id": "f275b619-9678-4351-8772-68ebee4b7fb3",
   "metadata": {},
   "outputs": [
    {
     "name": "stdout",
     "output_type": "stream",
     "text": [
      "a car around the three children for the three children\n"
     ]
    }
   ],
   "source": [
    "sentence = ['a', 'car']\n",
    "n = 2\n",
    "deterministic=True\n",
    "test = finish_sentence(sentence, n, syn_det_corpus, deterministic) \n",
    "print(\" \".join(test)) "
   ]
  },
  {
   "cell_type": "code",
   "execution_count": 98,
   "id": "757441c3-8d30-4f38-8ab4-84daa97d8cd2",
   "metadata": {},
   "outputs": [
    {
     "name": "stdout",
     "output_type": "stream",
     "text": [
      "a car around boys before the festival the pool is\n"
     ]
    }
   ],
   "source": [
    "sentence = ['a', 'car']\n",
    "n = 3\n",
    "deterministic=True\n",
    "test = finish_sentence(sentence, n, syn_det_corpus, deterministic) \n",
    "print(\" \".join(test)) "
   ]
  },
  {
   "cell_type": "code",
   "execution_count": 99,
   "id": "091c2420-ad38-4e48-bf56-d237d6257a0a",
   "metadata": {},
   "outputs": [
    {
     "name": "stdout",
     "output_type": "stream",
     "text": [
      "a car around boys before the festival the pool is\n"
     ]
    }
   ],
   "source": [
    "sentence = ['a', 'car']\n",
    "n = 5\n",
    "deterministic=True\n",
    "test = finish_sentence(sentence, n, syn_det_corpus, deterministic) \n",
    "print(\" \".join(test)) "
   ]
  },
  {
   "cell_type": "markdown",
   "id": "f2d8b85f-9240-4c78-9bb4-f545777c7149",
   "metadata": {},
   "source": [
    "### Train on Synthetic Data - Non-Deterministic"
   ]
  },
  {
   "cell_type": "code",
   "execution_count": 72,
   "id": "a09927a3-e32e-4d00-bb9f-31f5ee2052f6",
   "metadata": {},
   "outputs": [],
   "source": [
    "# Load Synthetic Data\n",
    "import pickle\n",
    "pickle_in = open(\"non_det_syn_data.pkl\",\"rb\")\n",
    "syn_det_data2 = pickle.load(pickle_in)\n",
    "\n",
    "\n",
    "# Tokenize words\n",
    "new_corpus3 = []\n",
    "\n",
    "for d in syn_det_data2:\n",
    "    a = d.split()\n",
    "    a = word_tokenize(d)\n",
    "    new_corpus3.append(a)\n",
    "\n",
    "syn_non_det_corpus = [item for sublist in new_corpus3 for item in sublist]"
   ]
  },
  {
   "cell_type": "code",
   "execution_count": 73,
   "id": "db336fd9-ad38-4d92-b0ef-6bd43fc8b181",
   "metadata": {},
   "outputs": [
    {
     "name": "stdout",
     "output_type": "stream",
     "text": [
      "the girl attending a young lady beatrice russo who is\n"
     ]
    }
   ],
   "source": [
    "sentence = ['the', 'girl']\n",
    "n = 2\n",
    "deterministic=True\n",
    "test = finish_sentence(sentence, n, syn_non_det_corpus, deterministic) \n",
    "print(\" \".join(test)) "
   ]
  },
  {
   "cell_type": "code",
   "execution_count": 74,
   "id": "5ffc10c7-09e1-4b05-b5e3-f7c48f7e4e64",
   "metadata": {},
   "outputs": [
    {
     "name": "stdout",
     "output_type": "stream",
     "text": [
      "the girl 's in the back where she recognizes her\n"
     ]
    }
   ],
   "source": [
    "sentence = ['the', 'girl']\n",
    "n = 3\n",
    "deterministic=True\n",
    "test = finish_sentence(sentence, n, syn_non_det_corpus, deterministic) \n",
    "print(\" \".join(test)) "
   ]
  },
  {
   "cell_type": "code",
   "execution_count": 75,
   "id": "0d21bfdf-f08d-42fa-bcaf-970c2bd2c007",
   "metadata": {},
   "outputs": [
    {
     "name": "stdout",
     "output_type": "stream",
     "text": [
      "the girl 's in the spring unfortunately evil magician murgatroyd\n"
     ]
    }
   ],
   "source": [
    "sentence = ['the', 'girl']\n",
    "n = 5\n",
    "deterministic=True\n",
    "test = finish_sentence(sentence, n, syn_non_det_corpus, deterministic) \n",
    "print(\" \".join(test)) "
   ]
  },
  {
   "cell_type": "code",
   "execution_count": 76,
   "id": "18b41b59-78b2-44ed-8978-3392d142ba9f",
   "metadata": {},
   "outputs": [
    {
     "name": "stdout",
     "output_type": "stream",
     "text": [
      "the man told to the film also shocked as the\n"
     ]
    }
   ],
   "source": [
    "sentence = ['the', 'man', 'told']\n",
    "n = 2\n",
    "deterministic=True\n",
    "test = finish_sentence(sentence, n, syn_non_det_corpus, deterministic) \n",
    "print(\" \".join(test)) "
   ]
  },
  {
   "cell_type": "code",
   "execution_count": 77,
   "id": "0f9f5d59-3655-4b3f-a652-96549076c1e8",
   "metadata": {},
   "outputs": [
    {
     "name": "stdout",
     "output_type": "stream",
     "text": [
      "the man told to wait back holds his games refuse\n"
     ]
    }
   ],
   "source": [
    "sentence = ['the', 'man', 'told']\n",
    "n = 3\n",
    "deterministic=True\n",
    "test = finish_sentence(sentence, n, syn_non_det_corpus, deterministic) \n",
    "print(\" \".join(test)) "
   ]
  },
  {
   "cell_type": "code",
   "execution_count": 78,
   "id": "a1edd90b-5cde-462a-be34-5be66f37883d",
   "metadata": {},
   "outputs": [
    {
     "name": "stdout",
     "output_type": "stream",
     "text": [
      "the man told to wait back holds his games refuse\n"
     ]
    }
   ],
   "source": [
    "sentence = ['the', 'man', 'told']\n",
    "n = 5\n",
    "deterministic=True\n",
    "test = finish_sentence(sentence, n, syn_non_det_corpus, deterministic) \n",
    "print(\" \".join(test)) "
   ]
  },
  {
   "cell_type": "code",
   "execution_count": 82,
   "id": "8afffb75-5b2e-41fd-b761-99f501936f81",
   "metadata": {},
   "outputs": [
    {
     "name": "stdout",
     "output_type": "stream",
     "text": [
      "as soon the film also shocked as the film also\n"
     ]
    }
   ],
   "source": [
    "sentence = ['as', 'soon', 'the']\n",
    "n = 2\n",
    "deterministic=True\n",
    "test = finish_sentence(sentence, n, syn_non_det_corpus, deterministic) \n",
    "print(\" \".join(test))"
   ]
  },
  {
   "cell_type": "code",
   "execution_count": 83,
   "id": "0f3ba90e-32ae-4e93-bc9d-93c6f91fb026",
   "metadata": {},
   "outputs": [
    {
     "name": "stdout",
     "output_type": "stream",
     "text": [
      "as soon the film also chika puts her furs back\n"
     ]
    }
   ],
   "source": [
    "sentence = ['as', 'soon', 'the']\n",
    "n = 3\n",
    "deterministic=True\n",
    "test = finish_sentence(sentence, n, syn_non_det_corpus, deterministic) \n",
    "print(\" \".join(test))"
   ]
  },
  {
   "cell_type": "code",
   "execution_count": 84,
   "id": "10e53640-f1d0-47c4-b350-f91da7c94a75",
   "metadata": {},
   "outputs": [
    {
     "name": "stdout",
     "output_type": "stream",
     "text": [
      "as soon the film also chika puts her furs back\n"
     ]
    }
   ],
   "source": [
    "sentence = ['as', 'soon', 'the']\n",
    "n = 5\n",
    "deterministic=True\n",
    "test = finish_sentence(sentence, n, syn_non_det_corpus, deterministic) \n",
    "print(\" \".join(test))"
   ]
  },
  {
   "cell_type": "code",
   "execution_count": 88,
   "id": "e71ddee8-d417-49a8-95f0-c35396a1ead8",
   "metadata": {},
   "outputs": [
    {
     "name": "stdout",
     "output_type": "stream",
     "text": [
      "i have to the film also shocked as the film\n"
     ]
    }
   ],
   "source": [
    "sentence = ['i', 'have']\n",
    "n = 2\n",
    "deterministic=True\n",
    "test = finish_sentence(sentence, n, syn_non_det_corpus, deterministic) \n",
    "print(\" \".join(test))"
   ]
  },
  {
   "cell_type": "code",
   "execution_count": 89,
   "id": "41937ae0-4af7-41d9-8b8c-440a7192a4e9",
   "metadata": {},
   "outputs": [
    {
     "name": "stdout",
     "output_type": "stream",
     "text": [
      "i have to murdered girls are buried in anand 's\n"
     ]
    }
   ],
   "source": [
    "sentence = ['i', 'have']\n",
    "n = 3\n",
    "deterministic=True\n",
    "test = finish_sentence(sentence, n, syn_non_det_corpus, deterministic) \n",
    "print(\" \".join(test))"
   ]
  },
  {
   "cell_type": "code",
   "execution_count": 90,
   "id": "30634388-f655-43f5-88b0-19ba4b97c1e2",
   "metadata": {},
   "outputs": [
    {
     "name": "stdout",
     "output_type": "stream",
     "text": [
      "i have to murdered girls are buried in anand 's\n"
     ]
    }
   ],
   "source": [
    "sentence = ['i', 'have']\n",
    "n = 5\n",
    "deterministic=True\n",
    "test = finish_sentence(sentence, n, syn_non_det_corpus, deterministic) \n",
    "print(\" \".join(test))"
   ]
  },
  {
   "cell_type": "code",
   "execution_count": 94,
   "id": "916496be-983a-485b-b922-f6420ee79410",
   "metadata": {},
   "outputs": [
    {
     "name": "stdout",
     "output_type": "stream",
     "text": [
      "a car around boys before the film also shocked as\n"
     ]
    }
   ],
   "source": [
    "sentence = ['a', 'car']\n",
    "n = 2\n",
    "deterministic=True\n",
    "test = finish_sentence(sentence, n, syn_non_det_corpus, deterministic) \n",
    "print(\" \".join(test))"
   ]
  },
  {
   "cell_type": "code",
   "execution_count": 95,
   "id": "a94944b9-729d-4d03-8f49-7fcc1a1b4bf3",
   "metadata": {},
   "outputs": [
    {
     "name": "stdout",
     "output_type": "stream",
     "text": [
      "a car compelled to tell her he a raft they\n"
     ]
    }
   ],
   "source": [
    "sentence = ['a', 'car']\n",
    "n = 3\n",
    "deterministic=True\n",
    "test = finish_sentence(sentence, n, syn_non_det_corpus, deterministic) \n",
    "print(\" \".join(test))"
   ]
  },
  {
   "cell_type": "code",
   "execution_count": 96,
   "id": "741158ae-ad25-4015-be25-7f709a908ac4",
   "metadata": {},
   "outputs": [
    {
     "name": "stdout",
     "output_type": "stream",
     "text": [
      "a car compelled to tell anna of jacob now the\n"
     ]
    }
   ],
   "source": [
    "sentence = ['a', 'car']\n",
    "n = 5\n",
    "deterministic=True\n",
    "test = finish_sentence(sentence, n, syn_non_det_corpus, deterministic) \n",
    "print(\" \".join(test))"
   ]
  },
  {
   "cell_type": "code",
   "execution_count": null,
   "id": "b1ce68fe-f223-4a17-bbbe-08cdf21c1c20",
   "metadata": {},
   "outputs": [],
   "source": []
  }
 ],
 "metadata": {
  "kernelspec": {
   "display_name": "Python 3 (ipykernel)",
   "language": "python",
   "name": "python3"
  },
  "language_info": {
   "codemirror_mode": {
    "name": "ipython",
    "version": 3
   },
   "file_extension": ".py",
   "mimetype": "text/x-python",
   "name": "python",
   "nbconvert_exporter": "python",
   "pygments_lexer": "ipython3",
   "version": "3.9.12"
  }
 },
 "nbformat": 4,
 "nbformat_minor": 5
}
